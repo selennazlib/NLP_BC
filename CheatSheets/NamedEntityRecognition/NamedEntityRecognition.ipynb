{
  "nbformat": 4,
  "nbformat_minor": 0,
  "metadata": {
    "colab": {
      "provenance": []
    },
    "kernelspec": {
      "name": "python3",
      "display_name": "Python 3"
    },
    "language_info": {
      "name": "python"
    }
  },
  "cells": [
    {
      "cell_type": "code",
      "execution_count": 40,
      "metadata": {
        "id": "t4u4_Ha7oyF3"
      },
      "outputs": [],
      "source": [
        "import spacy"
      ]
    },
    {
      "cell_type": "code",
      "source": [
        "nlp = spacy.load('en_core_web_sm')"
      ],
      "metadata": {
        "id": "tOyUzancpXYu"
      },
      "execution_count": 41,
      "outputs": []
    },
    {
      "cell_type": "code",
      "source": [
        "def show_ents(doc):\n",
        "  if doc.ents:\n",
        "    for ent in doc.ents:\n",
        "      print(ent.text + ' - ' + ent.label_ + ' - ' + str(spacy.explain(ent.label_)) +  '\\n')"
      ],
      "metadata": {
        "id": "nJQ0CLAApb4K"
      },
      "execution_count": 42,
      "outputs": []
    },
    {
      "cell_type": "code",
      "source": [
        "doc1 = nlp(u'Hi how are you?')\n",
        "show_ents(doc1)"
      ],
      "metadata": {
        "id": "DbmPBG9Dp5KP"
      },
      "execution_count": 43,
      "outputs": []
    },
    {
      "cell_type": "code",
      "source": [
        "doc2 = nlp(u\"Barack Hussein Obama II is an American politician who served as the 44th president of the United States from 2009 to 2017. \")\n",
        "show_ents(doc2)"
      ],
      "metadata": {
        "colab": {
          "base_uri": "https://localhost:8080/"
        },
        "id": "8RVOkRYuqC5n",
        "outputId": "000dec57-7ad1-4793-8aba-fc9c7fbeab62"
      },
      "execution_count": 44,
      "outputs": [
        {
          "output_type": "stream",
          "name": "stdout",
          "text": [
            "Barack Hussein - PERSON - People, including fictional\n",
            "\n",
            "American - NORP - Nationalities or religious or political groups\n",
            "\n",
            "44th - ORDINAL - \"first\", \"second\", etc.\n",
            "\n",
            "the United States - GPE - Countries, cities, states\n",
            "\n",
            "2009 to 2017 - DATE - Absolute or relative dates or periods\n",
            "\n"
          ]
        }
      ]
    },
    {
      "cell_type": "code",
      "source": [
        "doc3 = nlp(u\"Apple Inc. is an American multinational technology company that specializes in consumer electronics, software and online services headquartered in Cupertino, California, United States. Apple is the largest technology company by revenue (totaling US$365.8 billion in 2021) and as of June 2022, is the world's biggest company by market capitalization, the fourth-largest personal computer vendor by unit sales and second-largest mobile phone manufacturer. \")\n",
        "show_ents(doc3)"
      ],
      "metadata": {
        "colab": {
          "base_uri": "https://localhost:8080/"
        },
        "id": "w8sgLXecqNbj",
        "outputId": "11b6fb59-ba08-44b9-8dc3-0d4444eac26b"
      },
      "execution_count": 45,
      "outputs": [
        {
          "output_type": "stream",
          "name": "stdout",
          "text": [
            "Apple Inc. - ORG - Companies, agencies, institutions, etc.\n",
            "\n",
            "American - NORP - Nationalities or religious or political groups\n",
            "\n",
            "Cupertino - GPE - Countries, cities, states\n",
            "\n",
            "California - GPE - Countries, cities, states\n",
            "\n",
            "United States - GPE - Countries, cities, states\n",
            "\n",
            "Apple - ORG - Companies, agencies, institutions, etc.\n",
            "\n",
            "US$365.8 billion - MONEY - Monetary values, including unit\n",
            "\n",
            "2021 - DATE - Absolute or relative dates or periods\n",
            "\n",
            "June 2022 - DATE - Absolute or relative dates or periods\n",
            "\n",
            "fourth - ORDINAL - \"first\", \"second\", etc.\n",
            "\n",
            "second - ORDINAL - \"first\", \"second\", etc.\n",
            "\n"
          ]
        }
      ]
    },
    {
      "cell_type": "code",
      "source": [
        "doc4 = nlp(u\"Tesla to build a U.K. factory for $6 million\")\n",
        "show_ents(doc4)"
      ],
      "metadata": {
        "colab": {
          "base_uri": "https://localhost:8080/"
        },
        "id": "IQZVobt_reEi",
        "outputId": "fafe8f21-3b05-4fc6-9045-4e93c889be6d"
      },
      "execution_count": 46,
      "outputs": [
        {
          "output_type": "stream",
          "name": "stdout",
          "text": [
            "U.K. - GPE - Countries, cities, states\n",
            "\n",
            "$6 million - MONEY - Monetary values, including unit\n",
            "\n"
          ]
        }
      ]
    },
    {
      "cell_type": "code",
      "source": [
        "# There are some specific words in the text which spacy doesn't recognize(Obama, Tesla..). So we shoul be able to add our own entities\n",
        "from spacy.tokens import Span"
      ],
      "metadata": {
        "id": "DBJMEO5Lr-qW"
      },
      "execution_count": 47,
      "outputs": []
    },
    {
      "cell_type": "code",
      "source": [
        "ORG = doc4.vocab.strings[u\"ORG\"]\n",
        "ORG"
      ],
      "metadata": {
        "colab": {
          "base_uri": "https://localhost:8080/"
        },
        "id": "rLIK75P6sWBF",
        "outputId": "0cfdc3bc-4193-4a91-9b71-1dfdf7a2bacc"
      },
      "execution_count": 48,
      "outputs": [
        {
          "output_type": "execute_result",
          "data": {
            "text/plain": [
              "383"
            ]
          },
          "metadata": {},
          "execution_count": 48
        }
      ]
    },
    {
      "cell_type": "code",
      "source": [
        "new_ent = Span(doc4, 0, 1, label=ORG)"
      ],
      "metadata": {
        "id": "TANzIfuDsmEQ"
      },
      "execution_count": 49,
      "outputs": []
    },
    {
      "cell_type": "code",
      "source": [
        "doc4.ents = list(doc4.ents) + [new_ent]"
      ],
      "metadata": {
        "id": "yVwuZ5wtsyPt"
      },
      "execution_count": 50,
      "outputs": []
    },
    {
      "cell_type": "code",
      "source": [
        "show_ents(doc4)"
      ],
      "metadata": {
        "colab": {
          "base_uri": "https://localhost:8080/"
        },
        "id": "0IrZz2XWs4B-",
        "outputId": "2998c461-0c3d-4094-85ea-2e72473049be"
      },
      "execution_count": 51,
      "outputs": [
        {
          "output_type": "stream",
          "name": "stdout",
          "text": [
            "Tesla - ORG - Companies, agencies, institutions, etc.\n",
            "\n",
            "U.K. - GPE - Countries, cities, states\n",
            "\n",
            "$6 million - MONEY - Monetary values, including unit\n",
            "\n"
          ]
        }
      ]
    },
    {
      "cell_type": "code",
      "source": [
        "# adding multiple name entities\n",
        "doc = nlp(u\"Our company created a brand new vacuum cleaner.\"\n",
        "          u\"This new vacuum-cleaner is the best in show.\")"
      ],
      "metadata": {
        "id": "f7BCAOVjs7RF"
      },
      "execution_count": 52,
      "outputs": []
    },
    {
      "cell_type": "code",
      "source": [
        "show_ents(doc)"
      ],
      "metadata": {
        "id": "gA5Qg8lztewv"
      },
      "execution_count": 53,
      "outputs": []
    },
    {
      "cell_type": "code",
      "source": [
        "from spacy.matcher import PhraseMatcher\n",
        "\n",
        "matcher = PhraseMatcher(nlp.vocab)"
      ],
      "metadata": {
        "id": "TgD4xF1GtyW7"
      },
      "execution_count": 54,
      "outputs": []
    },
    {
      "cell_type": "code",
      "source": [
        "phrase_list = ['vacuum cleaner', 'vacuum-cleaner']\n",
        "phrease_patterns = [nlp(text) for text in phrase_list]"
      ],
      "metadata": {
        "id": "dED4aSkLuAxT"
      },
      "execution_count": 55,
      "outputs": []
    },
    {
      "cell_type": "code",
      "source": [
        "matcher.add('newproduct', None, *phrease_patterns)"
      ],
      "metadata": {
        "id": "u4oWpI-8uLbg"
      },
      "execution_count": 56,
      "outputs": []
    },
    {
      "cell_type": "code",
      "source": [
        "found_matches = matcher(doc)\n",
        "found_matches"
      ],
      "metadata": {
        "colab": {
          "base_uri": "https://localhost:8080/"
        },
        "id": "7tDys8rauSm8",
        "outputId": "b3d2f30e-53b3-4324-d32e-befcafb88f4c"
      },
      "execution_count": 57,
      "outputs": [
        {
          "output_type": "execute_result",
          "data": {
            "text/plain": [
              "[(2689272359382549672, 6, 8), (2689272359382549672, 11, 14)]"
            ]
          },
          "metadata": {},
          "execution_count": 57
        }
      ]
    },
    {
      "cell_type": "code",
      "source": [
        "from spacy.tokens import Span"
      ],
      "metadata": {
        "id": "yxvQBbNFuZDy"
      },
      "execution_count": 58,
      "outputs": []
    },
    {
      "cell_type": "code",
      "source": [
        "PROD = doc.vocab.strings[u'PRODUCT']"
      ],
      "metadata": {
        "id": "5sVbZ_MIucr-"
      },
      "execution_count": 59,
      "outputs": []
    },
    {
      "cell_type": "code",
      "source": [
        "new_ents = [Span(doc, match[1], match[2], label=PROD) for match in found_matches]"
      ],
      "metadata": {
        "id": "_G78ph_ouoTH"
      },
      "execution_count": 60,
      "outputs": []
    },
    {
      "cell_type": "code",
      "source": [
        "doc.ents = list(doc.ents) + new_ents"
      ],
      "metadata": {
        "id": "oRajGYlQu_hc"
      },
      "execution_count": 61,
      "outputs": []
    },
    {
      "cell_type": "code",
      "source": [
        "show_ents(doc)"
      ],
      "metadata": {
        "colab": {
          "base_uri": "https://localhost:8080/"
        },
        "id": "RB_ZdKmHvHA0",
        "outputId": "baa0e213-7c0e-4f38-8476-318969151051"
      },
      "execution_count": 62,
      "outputs": [
        {
          "output_type": "stream",
          "name": "stdout",
          "text": [
            "vacuum cleaner - PRODUCT - Objects, vehicles, foods, etc. (not services)\n",
            "\n",
            "vacuum-cleaner - PRODUCT - Objects, vehicles, foods, etc. (not services)\n",
            "\n"
          ]
        }
      ]
    },
    {
      "cell_type": "code",
      "source": [
        "# how many PRODUCT entity in the unicode string\n",
        "len([ent for ent in doc.ents if ent.label_ == \"PRODUCT\"])"
      ],
      "metadata": {
        "colab": {
          "base_uri": "https://localhost:8080/"
        },
        "id": "N0XDcgsMvYKA",
        "outputId": "60aa9e2d-68c7-46e0-a456-1fdc4a975c75"
      },
      "execution_count": 63,
      "outputs": [
        {
          "output_type": "execute_result",
          "data": {
            "text/plain": [
              "2"
            ]
          },
          "metadata": {},
          "execution_count": 63
        }
      ]
    },
    {
      "cell_type": "code",
      "source": [
        "# visualizing names entity recognition\n",
        "from spacy import displacy\n",
        "tesla = nlp(u\"Tesla, Inc. is an American multinational automotive and clean energy company headquartered in Austin, Texas with a market capitalization of more than US$840 billion.\")"
      ],
      "metadata": {
        "id": "qeaA4e5rv6SI"
      },
      "execution_count": 68,
      "outputs": []
    },
    {
      "cell_type": "code",
      "source": [
        "displacy.render(tesla, style='ent', jupyter=True)"
      ],
      "metadata": {
        "colab": {
          "base_uri": "https://localhost:8080/",
          "height": 52
        },
        "id": "JwxmhOblyEKG",
        "outputId": "639fc480-5583-4dce-ef6a-5354545dc9c1"
      },
      "execution_count": 69,
      "outputs": [
        {
          "output_type": "display_data",
          "data": {
            "text/plain": [
              "<IPython.core.display.HTML object>"
            ],
            "text/html": [
              "<span class=\"tex2jax_ignore\"><div class=\"entities\" style=\"line-height: 2.5; direction: ltr\">\n",
              "<mark class=\"entity\" style=\"background: #7aecec; padding: 0.45em 0.6em; margin: 0 0.25em; line-height: 1; border-radius: 0.35em;\">\n",
              "    Tesla, Inc.\n",
              "    <span style=\"font-size: 0.8em; font-weight: bold; line-height: 1; border-radius: 0.35em; vertical-align: middle; margin-left: 0.5rem\">ORG</span>\n",
              "</mark>\n",
              " is an \n",
              "<mark class=\"entity\" style=\"background: #c887fb; padding: 0.45em 0.6em; margin: 0 0.25em; line-height: 1; border-radius: 0.35em;\">\n",
              "    American\n",
              "    <span style=\"font-size: 0.8em; font-weight: bold; line-height: 1; border-radius: 0.35em; vertical-align: middle; margin-left: 0.5rem\">NORP</span>\n",
              "</mark>\n",
              " multinational automotive and clean energy company headquartered in \n",
              "<mark class=\"entity\" style=\"background: #feca74; padding: 0.45em 0.6em; margin: 0 0.25em; line-height: 1; border-radius: 0.35em;\">\n",
              "    Austin\n",
              "    <span style=\"font-size: 0.8em; font-weight: bold; line-height: 1; border-radius: 0.35em; vertical-align: middle; margin-left: 0.5rem\">GPE</span>\n",
              "</mark>\n",
              ", \n",
              "<mark class=\"entity\" style=\"background: #feca74; padding: 0.45em 0.6em; margin: 0 0.25em; line-height: 1; border-radius: 0.35em;\">\n",
              "    Texas\n",
              "    <span style=\"font-size: 0.8em; font-weight: bold; line-height: 1; border-radius: 0.35em; vertical-align: middle; margin-left: 0.5rem\">GPE</span>\n",
              "</mark>\n",
              " with a market capitalization of \n",
              "<mark class=\"entity\" style=\"background: #e4e7d2; padding: 0.45em 0.6em; margin: 0 0.25em; line-height: 1; border-radius: 0.35em;\">\n",
              "    more than US$840 billion\n",
              "    <span style=\"font-size: 0.8em; font-weight: bold; line-height: 1; border-radius: 0.35em; vertical-align: middle; margin-left: 0.5rem\">MONEY</span>\n",
              "</mark>\n",
              ".</div></span>"
            ]
          },
          "metadata": {}
        }
      ]
    },
    {
      "cell_type": "code",
      "source": [
        "options = {'ents':['GPE', 'ORG'], 'colors':{'GPE':'radial-gradient(pink, purple)', 'ORG':'linear-gradient(90deg, #832C8A, #E23B6B)'}}"
      ],
      "metadata": {
        "id": "Z5vpKM5TyLEb"
      },
      "execution_count": 92,
      "outputs": []
    },
    {
      "cell_type": "code",
      "source": [
        "displacy.render(tesla, style='ent', jupyter=True, options=options)"
      ],
      "metadata": {
        "colab": {
          "base_uri": "https://localhost:8080/",
          "height": 52
        },
        "id": "T6dapA9iy6wg",
        "outputId": "6d088b99-a454-4305-fdc4-06c71dd7c6e5"
      },
      "execution_count": 93,
      "outputs": [
        {
          "output_type": "display_data",
          "data": {
            "text/plain": [
              "<IPython.core.display.HTML object>"
            ],
            "text/html": [
              "<span class=\"tex2jax_ignore\"><div class=\"entities\" style=\"line-height: 2.5; direction: ltr\">\n",
              "<mark class=\"entity\" style=\"background: linear-gradient(90deg, #832C8A, #E23B6B); padding: 0.45em 0.6em; margin: 0 0.25em; line-height: 1; border-radius: 0.35em;\">\n",
              "    Tesla, Inc.\n",
              "    <span style=\"font-size: 0.8em; font-weight: bold; line-height: 1; border-radius: 0.35em; vertical-align: middle; margin-left: 0.5rem\">ORG</span>\n",
              "</mark>\n",
              " is an American multinational automotive and clean energy company headquartered in \n",
              "<mark class=\"entity\" style=\"background: radial-gradient(pink, purple); padding: 0.45em 0.6em; margin: 0 0.25em; line-height: 1; border-radius: 0.35em;\">\n",
              "    Austin\n",
              "    <span style=\"font-size: 0.8em; font-weight: bold; line-height: 1; border-radius: 0.35em; vertical-align: middle; margin-left: 0.5rem\">GPE</span>\n",
              "</mark>\n",
              ", \n",
              "<mark class=\"entity\" style=\"background: radial-gradient(pink, purple); padding: 0.45em 0.6em; margin: 0 0.25em; line-height: 1; border-radius: 0.35em;\">\n",
              "    Texas\n",
              "    <span style=\"font-size: 0.8em; font-weight: bold; line-height: 1; border-radius: 0.35em; vertical-align: middle; margin-left: 0.5rem\">GPE</span>\n",
              "</mark>\n",
              " with a market capitalization of more than US$840 billion.</div></span>"
            ]
          },
          "metadata": {}
        }
      ]
    }
  ]
}