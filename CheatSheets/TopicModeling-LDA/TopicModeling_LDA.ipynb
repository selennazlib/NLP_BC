{
  "nbformat": 4,
  "nbformat_minor": 0,
  "metadata": {
    "colab": {
      "provenance": []
    },
    "kernelspec": {
      "name": "python3",
      "display_name": "Python 3"
    },
    "language_info": {
      "name": "python"
    }
  },
  "cells": [
    {
      "cell_type": "markdown",
      "source": [
        "In natural language processing, **Latent Dirichlet Allocation (LDA)** is a generative statistical model that explains a set of observations through unobserved groups, and each group explains why some parts of the data are similar. The LDA is an example of a topic model. In this, observations (e.g., words) are collected into documents, and each word's presence is attributable to one of the document's topics. Each document will contain a small number of topics. (source: https://en.wikipedia.org/wiki/Latent_Dirichlet_allocation)"
      ],
      "metadata": {
        "id": "LoermneFogM0"
      }
    },
    {
      "cell_type": "code",
      "execution_count": 43,
      "metadata": {
        "id": "HFpcFqYwipPw"
      },
      "outputs": [],
      "source": [
        "# import libs\n",
        "import pandas as pd"
      ]
    },
    {
      "cell_type": "code",
      "source": [
        "# get the data\n",
        "npr_df = pd.read_csv('npr.csv')\n",
        "npr_df.head()"
      ],
      "metadata": {
        "colab": {
          "base_uri": "https://localhost:8080/",
          "height": 206
        },
        "id": "ExSwLYTnpan_",
        "outputId": "c0d042e9-4e8a-4daa-9955-c7fdcf8182b8"
      },
      "execution_count": 44,
      "outputs": [
        {
          "output_type": "execute_result",
          "data": {
            "text/plain": [
              "                                             Article\n",
              "0  In the Washington of 2016, even when the polic...\n",
              "1    Donald Trump has used Twitter  —   his prefe...\n",
              "2    Donald Trump is unabashedly praising Russian...\n",
              "3  Updated at 2:50 p. m. ET, Russian President Vl...\n",
              "4  From photography, illustration and video, to d..."
            ],
            "text/html": [
              "\n",
              "  <div id=\"df-e2bfde31-e360-429d-bbe1-96fe6097a6f6\">\n",
              "    <div class=\"colab-df-container\">\n",
              "      <div>\n",
              "<style scoped>\n",
              "    .dataframe tbody tr th:only-of-type {\n",
              "        vertical-align: middle;\n",
              "    }\n",
              "\n",
              "    .dataframe tbody tr th {\n",
              "        vertical-align: top;\n",
              "    }\n",
              "\n",
              "    .dataframe thead th {\n",
              "        text-align: right;\n",
              "    }\n",
              "</style>\n",
              "<table border=\"1\" class=\"dataframe\">\n",
              "  <thead>\n",
              "    <tr style=\"text-align: right;\">\n",
              "      <th></th>\n",
              "      <th>Article</th>\n",
              "    </tr>\n",
              "  </thead>\n",
              "  <tbody>\n",
              "    <tr>\n",
              "      <th>0</th>\n",
              "      <td>In the Washington of 2016, even when the polic...</td>\n",
              "    </tr>\n",
              "    <tr>\n",
              "      <th>1</th>\n",
              "      <td>Donald Trump has used Twitter  —   his prefe...</td>\n",
              "    </tr>\n",
              "    <tr>\n",
              "      <th>2</th>\n",
              "      <td>Donald Trump is unabashedly praising Russian...</td>\n",
              "    </tr>\n",
              "    <tr>\n",
              "      <th>3</th>\n",
              "      <td>Updated at 2:50 p. m. ET, Russian President Vl...</td>\n",
              "    </tr>\n",
              "    <tr>\n",
              "      <th>4</th>\n",
              "      <td>From photography, illustration and video, to d...</td>\n",
              "    </tr>\n",
              "  </tbody>\n",
              "</table>\n",
              "</div>\n",
              "      <button class=\"colab-df-convert\" onclick=\"convertToInteractive('df-e2bfde31-e360-429d-bbe1-96fe6097a6f6')\"\n",
              "              title=\"Convert this dataframe to an interactive table.\"\n",
              "              style=\"display:none;\">\n",
              "        \n",
              "  <svg xmlns=\"http://www.w3.org/2000/svg\" height=\"24px\"viewBox=\"0 0 24 24\"\n",
              "       width=\"24px\">\n",
              "    <path d=\"M0 0h24v24H0V0z\" fill=\"none\"/>\n",
              "    <path d=\"M18.56 5.44l.94 2.06.94-2.06 2.06-.94-2.06-.94-.94-2.06-.94 2.06-2.06.94zm-11 1L8.5 8.5l.94-2.06 2.06-.94-2.06-.94L8.5 2.5l-.94 2.06-2.06.94zm10 10l.94 2.06.94-2.06 2.06-.94-2.06-.94-.94-2.06-.94 2.06-2.06.94z\"/><path d=\"M17.41 7.96l-1.37-1.37c-.4-.4-.92-.59-1.43-.59-.52 0-1.04.2-1.43.59L10.3 9.45l-7.72 7.72c-.78.78-.78 2.05 0 2.83L4 21.41c.39.39.9.59 1.41.59.51 0 1.02-.2 1.41-.59l7.78-7.78 2.81-2.81c.8-.78.8-2.07 0-2.86zM5.41 20L4 18.59l7.72-7.72 1.47 1.35L5.41 20z\"/>\n",
              "  </svg>\n",
              "      </button>\n",
              "      \n",
              "  <style>\n",
              "    .colab-df-container {\n",
              "      display:flex;\n",
              "      flex-wrap:wrap;\n",
              "      gap: 12px;\n",
              "    }\n",
              "\n",
              "    .colab-df-convert {\n",
              "      background-color: #E8F0FE;\n",
              "      border: none;\n",
              "      border-radius: 50%;\n",
              "      cursor: pointer;\n",
              "      display: none;\n",
              "      fill: #1967D2;\n",
              "      height: 32px;\n",
              "      padding: 0 0 0 0;\n",
              "      width: 32px;\n",
              "    }\n",
              "\n",
              "    .colab-df-convert:hover {\n",
              "      background-color: #E2EBFA;\n",
              "      box-shadow: 0px 1px 2px rgba(60, 64, 67, 0.3), 0px 1px 3px 1px rgba(60, 64, 67, 0.15);\n",
              "      fill: #174EA6;\n",
              "    }\n",
              "\n",
              "    [theme=dark] .colab-df-convert {\n",
              "      background-color: #3B4455;\n",
              "      fill: #D2E3FC;\n",
              "    }\n",
              "\n",
              "    [theme=dark] .colab-df-convert:hover {\n",
              "      background-color: #434B5C;\n",
              "      box-shadow: 0px 1px 3px 1px rgba(0, 0, 0, 0.15);\n",
              "      filter: drop-shadow(0px 1px 2px rgba(0, 0, 0, 0.3));\n",
              "      fill: #FFFFFF;\n",
              "    }\n",
              "  </style>\n",
              "\n",
              "      <script>\n",
              "        const buttonEl =\n",
              "          document.querySelector('#df-e2bfde31-e360-429d-bbe1-96fe6097a6f6 button.colab-df-convert');\n",
              "        buttonEl.style.display =\n",
              "          google.colab.kernel.accessAllowed ? 'block' : 'none';\n",
              "\n",
              "        async function convertToInteractive(key) {\n",
              "          const element = document.querySelector('#df-e2bfde31-e360-429d-bbe1-96fe6097a6f6');\n",
              "          const dataTable =\n",
              "            await google.colab.kernel.invokeFunction('convertToInteractive',\n",
              "                                                     [key], {});\n",
              "          if (!dataTable) return;\n",
              "\n",
              "          const docLinkHtml = 'Like what you see? Visit the ' +\n",
              "            '<a target=\"_blank\" href=https://colab.research.google.com/notebooks/data_table.ipynb>data table notebook</a>'\n",
              "            + ' to learn more about interactive tables.';\n",
              "          element.innerHTML = '';\n",
              "          dataTable['output_type'] = 'display_data';\n",
              "          await google.colab.output.renderOutput(dataTable, element);\n",
              "          const docLink = document.createElement('div');\n",
              "          docLink.innerHTML = docLinkHtml;\n",
              "          element.appendChild(docLink);\n",
              "        }\n",
              "      </script>\n",
              "    </div>\n",
              "  </div>\n",
              "  "
            ]
          },
          "metadata": {},
          "execution_count": 44
        }
      ]
    },
    {
      "cell_type": "code",
      "source": [
        "npr_df['Article'][8]"
      ],
      "metadata": {
        "colab": {
          "base_uri": "https://localhost:8080/",
          "height": 105
        },
        "id": "oJ5QW997rCbw",
        "outputId": "4f1a7dca-c109-4b17-c976-2ca0faf005cb"
      },
      "execution_count": 45,
      "outputs": [
        {
          "output_type": "execute_result",
          "data": {
            "text/plain": [
              "'If movies were trying to be more realistic, perhaps the way to summon Batman shouldn’t have been the    —   it should have been the bat squeak. New research from the Bat Lab for   at Tel Aviv University found that bats are ”vocalizing” more information than many researchers previously thought. And researchers were able to decipher what the bats were squeaking to each other about  —   often they were bickering over things like food, sleep and mating. ”It’s not as if now we can understand everything. It’s not as if we have a    dictionary,” says Dr. Yossi Yovel, a   at Tel Aviv University and a member of the Bat Lab. ”But what we’ve found is that this cacophony that you could hear . .. actually contains much more information than previously believed. So, all of [this] shouting, all of these vocalizations that were previously all categorized as aggressive vocalizations, we can now divide them,” Yovel tells NPR’s Scott Simon. ”For example, we can classify whether the bats are arguing over food or over mating or over sleeping position or over other contexts,” he says. ”We can recognize the individuals vocalizing and we can even, to some extent, say who they are vocalizing to.” In a recent study, Yovel, along with researchers Yosef Prat and Mor Taub, monitored groups of Egyptian fruit bats with   audio and video recording for two and a half months. They say they analyzed almost 15, 000 bat vocalizations. Egyptian fruit bats are one of a small number of animal species to communicate    within their species, instead of ”broadcasting” their message. Bats do more than argue, Yovel says. But Egyptian fruit bats spend a lot of time arguing. ”Nearly all of the communication calls of the Egyptian fruit bat in the roost are emitted during aggressive pairwise interactions, involving squabbling over food or perching locations and protesting against mating attempts,” the researchers write. ”What they’re saying is stuff like: Why did you wake me up? Get out of my way,” Yovel says. ”In the case of mating, it’s usually the female protesting against a male who is trying to mate with her.” Context in bat communication was one focus of the study. If we humans say the word ”apple,” we imagine certain characteristics just from that word alone: a red color, a round shape, a certain taste, Yovel explains. ”This is something that is [a] very very important factor in human communication.” He says animals almost never demonstrate this ability. But their research shows that vocalizations between bats have more of this type of context than researchers knew about before. One goal of the research on bats is to apply it toward general knowledge of how different animals  —   including humans  —   communicate. ”It’s all part of a big question: How complex is animal communication?” Yovel says. ”Identifying context specific calls can be a first step toward the recovering of meaning in animal communication,” the researchers write. ”Understanding the encapsulated information in animal vocalizations is central to the study of sociality, communication, and language evolution.” So is there a   translator in the works? ”Step by step we are getting closer to deciphering their communication,” Yovel says. ”I don’t think we will  —   not in my time, at least  —   be able to really talk with them.”'"
            ],
            "application/vnd.google.colaboratory.intrinsic+json": {
              "type": "string"
            }
          },
          "metadata": {},
          "execution_count": 45
        }
      ]
    },
    {
      "cell_type": "code",
      "source": [
        "# feature extraction\n",
        "from sklearn.feature_extraction.text import TfidfVectorizer\n",
        "\n",
        "\"\"\"\n",
        "\n",
        "max_dffloat or int, default=1.0\n",
        "When building the vocabulary ignore terms that have a document frequency strictly higher than the given threshold\n",
        "\n",
        "min_dffloat or int, default=1\n",
        "When building the vocabulary ignore terms that have a document frequency strictly lower than the given threshold. \n",
        "\n",
        "\"\"\"\n",
        "idf = TfidfVectorizer(max_df=0.9, min_df=2, stop_words='english')\n",
        "dtm = idf.fit_transform(npr_df['Article'])"
      ],
      "metadata": {
        "id": "syELg1HvrINx"
      },
      "execution_count": 46,
      "outputs": []
    },
    {
      "cell_type": "code",
      "source": [
        "# LDA \n",
        "from sklearn.decomposition import LatentDirichletAllocation\n",
        "\n",
        "lda = LatentDirichletAllocation(n_components=9, random_state=42)\n",
        "lda.fit(dtm)"
      ],
      "metadata": {
        "colab": {
          "base_uri": "https://localhost:8080/"
        },
        "id": "gPXE6jV8sNwU",
        "outputId": "679d8ac0-bb85-4000-f2e3-75d8b988c8e8"
      },
      "execution_count": 47,
      "outputs": [
        {
          "output_type": "execute_result",
          "data": {
            "text/plain": [
              "LatentDirichletAllocation(n_components=9, random_state=42)"
            ]
          },
          "metadata": {},
          "execution_count": 47
        }
      ]
    },
    {
      "cell_type": "code",
      "source": [
        "print(\"length: \",len(idf.get_feature_names()))\n",
        "print(\"type: \",type(idf.get_feature_names()))"
      ],
      "metadata": {
        "colab": {
          "base_uri": "https://localhost:8080/"
        },
        "id": "C3fMAh8Ns3_N",
        "outputId": "8c9860b4-7cf7-438c-d0d7-e1af94a62ef2"
      },
      "execution_count": 48,
      "outputs": [
        {
          "output_type": "stream",
          "name": "stdout",
          "text": [
            "length:  54777\n",
            "type:  <class 'list'>\n"
          ]
        },
        {
          "output_type": "stream",
          "name": "stderr",
          "text": [
            "/usr/local/lib/python3.7/dist-packages/sklearn/utils/deprecation.py:87: FutureWarning: Function get_feature_names is deprecated; get_feature_names is deprecated in 1.0 and will be removed in 1.2. Please use get_feature_names_out instead.\n",
            "  warnings.warn(msg, category=FutureWarning)\n"
          ]
        }
      ]
    },
    {
      "cell_type": "code",
      "source": [
        "idf.get_feature_names_out()"
      ],
      "metadata": {
        "colab": {
          "base_uri": "https://localhost:8080/"
        },
        "id": "Fao3BAzztO9b",
        "outputId": "e05d71e6-26d2-41e4-887a-8eb014e65915"
      },
      "execution_count": 49,
      "outputs": [
        {
          "output_type": "execute_result",
          "data": {
            "text/plain": [
              "array(['00', '000', '00000', ..., 'ángel', 'émigrés', 'überfunky'],\n",
              "      dtype=object)"
            ]
          },
          "metadata": {},
          "execution_count": 49
        }
      ]
    },
    {
      "cell_type": "code",
      "source": [
        "# grab the vocabluary\n",
        "import random\n",
        "word_ind = random.randint(0, 5477)\n",
        "idf.get_feature_names()[word_ind]"
      ],
      "metadata": {
        "colab": {
          "base_uri": "https://localhost:8080/",
          "height": 35
        },
        "id": "sp4VjbA9uMGt",
        "outputId": "e06bd63d-fcf7-4017-c5b0-93e13aa0a101"
      },
      "execution_count": 50,
      "outputs": [
        {
          "output_type": "execute_result",
          "data": {
            "text/plain": [
              "'ailment'"
            ],
            "application/vnd.google.colaboratory.intrinsic+json": {
              "type": "string"
            }
          },
          "metadata": {},
          "execution_count": 50
        }
      ]
    },
    {
      "cell_type": "code",
      "source": [
        "# grab the topics\n",
        "len(lda.components_)"
      ],
      "metadata": {
        "colab": {
          "base_uri": "https://localhost:8080/"
        },
        "id": "FhbyyDwUuWev",
        "outputId": "48b8197a-886e-44cb-c5e8-a8b8e15be663"
      },
      "execution_count": 51,
      "outputs": [
        {
          "output_type": "execute_result",
          "data": {
            "text/plain": [
              "9"
            ]
          },
          "metadata": {},
          "execution_count": 51
        }
      ]
    },
    {
      "cell_type": "code",
      "source": [
        "type(lda.components_)"
      ],
      "metadata": {
        "colab": {
          "base_uri": "https://localhost:8080/"
        },
        "id": "jyj8ls1xxoJT",
        "outputId": "54f8a9f9-e95e-43ea-eaee-de7c1adc81e9"
      },
      "execution_count": 52,
      "outputs": [
        {
          "output_type": "execute_result",
          "data": {
            "text/plain": [
              "numpy.ndarray"
            ]
          },
          "metadata": {},
          "execution_count": 52
        }
      ]
    },
    {
      "cell_type": "code",
      "source": [
        "lda.components_.shape"
      ],
      "metadata": {
        "colab": {
          "base_uri": "https://localhost:8080/"
        },
        "id": "x71xHb-5xrZ1",
        "outputId": "ac57091e-2f2a-4364-a36f-2eede8d609a2"
      },
      "execution_count": 53,
      "outputs": [
        {
          "output_type": "execute_result",
          "data": {
            "text/plain": [
              "(9, 54777)"
            ]
          },
          "metadata": {},
          "execution_count": 53
        }
      ]
    },
    {
      "cell_type": "code",
      "source": [
        "single_topic = lda.components_[0]\n",
        "\"\"\"\n",
        "argsort returns the index positions that would sort this array\n",
        "\n",
        "Input unsorted array :  [2 0 1 5 4 1 9]\n",
        "Output sorted array indices :  [1 2 5 0 4 3 6]\n",
        "\"\"\"\n",
        "single_topic.argsort()"
      ],
      "metadata": {
        "colab": {
          "base_uri": "https://localhost:8080/"
        },
        "id": "sTpE7LPax4qC",
        "outputId": "f24c8fea-89e2-47b5-c5c1-691b8d732b01"
      },
      "execution_count": 54,
      "outputs": [
        {
          "output_type": "execute_result",
          "data": {
            "text/plain": [
              "array([ 4635, 28075, 27321, ..., 42098,  6983, 27108])"
            ]
          },
          "metadata": {},
          "execution_count": 54
        }
      ]
    },
    {
      "cell_type": "code",
      "source": [
        "single_topic.argsort()[-10:] # top 10 "
      ],
      "metadata": {
        "colab": {
          "base_uri": "https://localhost:8080/"
        },
        "id": "sGeMNgrszLOQ",
        "outputId": "cb0c1166-d773-4c96-c780-b7fa7e5c8658"
      },
      "execution_count": 55,
      "outputs": [
        {
          "output_type": "execute_result",
          "data": {
            "text/plain": [
              "array([12529, 30642,  9534, 36656, 27843,  4518,  2307, 42098,  6983,\n",
              "       27108])"
            ]
          },
          "metadata": {},
          "execution_count": 55
        }
      ]
    },
    {
      "cell_type": "code",
      "source": [
        "top_ten_words = single_topic.argsort()[-10:] \n",
        "\"\"\"\n",
        "top 10 words that tend to have some sort of generalized topic feeling.\n",
        "\"\"\"\n",
        "for index in top_ten_words:\n",
        "  print(idf.get_feature_names()[index])\n",
        "\n"
      ],
      "metadata": {
        "colab": {
          "base_uri": "https://localhost:8080/"
        },
        "id": "calrNfafzXmi",
        "outputId": "f457e5b1-ed13-410c-afe9-4e1087e0bf42"
      },
      "execution_count": 56,
      "outputs": [
        {
          "output_type": "stream",
          "name": "stdout",
          "text": [
            "cáceres\n",
            "mcgee\n",
            "cladding\n",
            "philae\n",
            "lander\n",
            "backpage\n",
            "albee\n",
            "rosetta\n",
            "brezler\n",
            "ketamine\n"
          ]
        }
      ]
    },
    {
      "cell_type": "code",
      "source": [
        "# grab the highest probability words per topic\n",
        "for i, topic in enumerate(lda.components_):\n",
        "  print(f\"The top 15 words for topic #{i + 1}\")\n",
        "  print([idf.get_feature_names()[index] for index in topic.argsort()[-15:]])\n",
        "  print(\"\\n\")"
      ],
      "metadata": {
        "colab": {
          "base_uri": "https://localhost:8080/"
        },
        "id": "NAbqSt1sxtjo",
        "outputId": "9067df95-ff45-417d-fe67-da0b55bdbab8"
      },
      "execution_count": 57,
      "outputs": [
        {
          "output_type": "stream",
          "name": "stdout",
          "text": [
            "The top 15 words for topic #1\n",
            "['kjellberg', 'windham', 'mantis', 'tuareg', 'klingon', 'cáceres', 'mcgee', 'cladding', 'philae', 'lander', 'backpage', 'albee', 'rosetta', 'brezler', 'ketamine']\n",
            "\n",
            "\n",
            "The top 15 words for topic #2\n",
            "['guillo', 'takata', 'carlile', 'durst', 'amt', 'brt', 'rayos', 'puig', 'hoboken', 'hekmati', 'ameera', 'korematsu', 'cernan', 'kerber', 'crapser']\n",
            "\n",
            "\n",
            "The top 15 words for topic #3\n",
            "['heffernan', 'fernández', 'bald', 'noriega', 'ammon', 'harney', 'dalí', 'gula', 'insanity', 'yanez', 'ants', 'malheur', 'occupiers', 'refuge', 'bundy']\n",
            "\n",
            "\n",
            "The top 15 words for topic #4\n",
            "['mammography', 'probuphine', 'rubella', 'radium', 'kalanick', 'herrera', 'gingerbread', 'amaranth', 'headset', 'listeria', 'somaliland', 'neanderthals', 'wilmore', 'dyslexia', 'gulen']\n",
            "\n",
            "\n",
            "The top 15 words for topic #5\n",
            "['intelligence', 'reports', 'security', 'attack', 'police', 'russian', 'comey', 'fbi', 'syria', 'isis', 'president', 'said', 'court', 'trump', 'russia']\n",
            "\n",
            "\n",
            "The top 15 words for topic #6\n",
            "['blackstar', 'rahami', 'kohlhepp', 'abedi', 'celiac', 'mito', 'buprenorphine', 'shkreli', 'deford', 'lepage', 'suboxone', 'gawker', 'methadone', 'thiel', 'biles']\n",
            "\n",
            "\n",
            "The top 15 words for topic #7\n",
            "['almena', 'zabi', 'pandas', 'rutland', 'honnold', 'cassini', 'climbers', 'foxfire', 'meteor', 'rubins', 'saturn', 'boaty', 'itt', 'pepe', 'lochte']\n",
            "\n",
            "\n",
            "The top 15 words for topic #8\n",
            "['heyman', 'koala', 'bobo', 'cordero', 'shostak', 'bertish', 'kinsey', 'untitled', 'worrell', 'dalton', 'hynes', 'allman', 'burkini', 'constand', 'cosby']\n",
            "\n",
            "\n",
            "The top 15 words for topic #9\n",
            "['year', 'president', 'think', 'years', 'women', 'time', 'health', 'clinton', 'new', 'just', 'like', 'said', 'people', 'trump', 'says']\n",
            "\n",
            "\n"
          ]
        }
      ]
    },
    {
      "cell_type": "code",
      "source": [
        "topic_res = lda.transform(dtm)"
      ],
      "metadata": {
        "id": "jr7oQKgf1R8_"
      },
      "execution_count": 58,
      "outputs": []
    },
    {
      "cell_type": "code",
      "source": [
        "topic_res.shape"
      ],
      "metadata": {
        "colab": {
          "base_uri": "https://localhost:8080/"
        },
        "id": "c9utmUFN13IU",
        "outputId": "af862519-c172-4b0c-ad24-2beab8569e94"
      },
      "execution_count": 59,
      "outputs": [
        {
          "output_type": "execute_result",
          "data": {
            "text/plain": [
              "(11992, 9)"
            ]
          },
          "metadata": {},
          "execution_count": 59
        }
      ]
    },
    {
      "cell_type": "code",
      "source": [
        "topic_res"
      ],
      "metadata": {
        "colab": {
          "base_uri": "https://localhost:8080/"
        },
        "id": "bEhRSFiE16ec",
        "outputId": "edc2324c-a231-4709-a60a-9b426de1cba3"
      },
      "execution_count": 60,
      "outputs": [
        {
          "output_type": "execute_result",
          "data": {
            "text/plain": [
              "array([[0.00655119, 0.00655119, 0.00655135, ..., 0.00655119, 0.00655119,\n",
              "        0.63097523],\n",
              "       [0.00836978, 0.00836966, 0.00837048, ..., 0.00836966, 0.00836966,\n",
              "        0.59658806],\n",
              "       [0.00904441, 0.00904441, 0.00904441, ..., 0.00904441, 0.00904441,\n",
              "        0.56248219],\n",
              "       ...,\n",
              "       [0.00725201, 0.00725201, 0.00725206, ..., 0.00753302, 0.00725308,\n",
              "        0.8723203 ],\n",
              "       [0.00770954, 0.00770954, 0.00770954, ..., 0.00770954, 0.00770954,\n",
              "        0.93831418],\n",
              "       [0.00893004, 0.00893004, 0.00893004, ..., 0.00893004, 0.00893004,\n",
              "        0.92855641]])"
            ]
          },
          "metadata": {},
          "execution_count": 60
        }
      ]
    },
    {
      "cell_type": "code",
      "source": [
        "topic_res[3] # these are essentially probabilities of belonging to particular topic. the 4th article(ind=3) belongs to the topic 5 with 0.91 probability"
      ],
      "metadata": {
        "colab": {
          "base_uri": "https://localhost:8080/"
        },
        "id": "mj906M4H17sM",
        "outputId": "47c2be3c-57ef-4e48-d1d3-e777a2a86ced"
      },
      "execution_count": 61,
      "outputs": [
        {
          "output_type": "execute_result",
          "data": {
            "text/plain": [
              "array([0.01148878, 0.01148878, 0.01148878, 0.01148878, 0.58362811,\n",
              "       0.01148878, 0.01148878, 0.01148878, 0.33595042])"
            ]
          },
          "metadata": {},
          "execution_count": 61
        }
      ]
    },
    {
      "cell_type": "code",
      "source": [
        "npr_df['topics'] = topic_res.argmax(axis=1)"
      ],
      "metadata": {
        "id": "-tyK_66x2BYG"
      },
      "execution_count": 62,
      "outputs": []
    },
    {
      "cell_type": "code",
      "source": [
        "npr_df.head(35)"
      ],
      "metadata": {
        "colab": {
          "base_uri": "https://localhost:8080/",
          "height": 1000
        },
        "id": "qjMr9oM623xQ",
        "outputId": "01be2990-7b31-42ba-cbde-fd79f64bcda8"
      },
      "execution_count": 63,
      "outputs": [
        {
          "output_type": "execute_result",
          "data": {
            "text/plain": [
              "                                              Article  topics\n",
              "0   In the Washington of 2016, even when the polic...       8\n",
              "1     Donald Trump has used Twitter  —   his prefe...       8\n",
              "2     Donald Trump is unabashedly praising Russian...       8\n",
              "3   Updated at 2:50 p. m. ET, Russian President Vl...       4\n",
              "4   From photography, illustration and video, to d...       8\n",
              "5   I did not want to join yoga class. I hated tho...       8\n",
              "6   With a   who has publicly supported the debunk...       8\n",
              "7   I was standing by the airport exit, debating w...       8\n",
              "8   If movies were trying to be more realistic, pe...       8\n",
              "9   Eighteen years ago, on New Year’s Eve, David F...       8\n",
              "10  For years now, some of the best, wildest, most...       8\n",
              "11  For years now, some of the best, wildest, most...       8\n",
              "12  The Colorado River is like a giant bank accoun...       8\n",
              "13  For the last installment of NPR’s holiday reci...       8\n",
              "14  Being overweight can raise your blood pressure...       8\n",
              "15  Who’s the YouTube star of 2016? Adele singing ...       8\n",
              "16  Here’s a quick roundup of some of the   you ma...       8\n",
              "17  Ben Johnston doesn’t follow the rules of music...       8\n",
              "18  David Bowie, Prince and George Michael are all...       8\n",
              "19  In November, the typically straitlaced Office ...       8\n",
              "20  This is the time of year when everybody is mak...       8\n",
              "21  Terrorist attacks, hurricanes, a divisive U. S...       8\n",
              "22  We all experience stress at work, no matter th...       8\n",
              "23  When John Fahey recorded The New Possibility i...       8\n",
              "24  This year was one of   hacks, exploding smartp...       8\n",
              "25  From West Virginia to Wyoming, coal country ov...       8\n",
              "26  Updated Jan. 1 at 9:56 a. m. ET, At least 39 p...       4\n",
              "27  On the morning of Jan. 1, Los Angeles resident...       8\n",
              "28  In September, reproductive endocrinologist Joh...       8\n",
              "29  In an effort to take advantage of the intimate...       8\n",
              "30  Much has been said about the physical and psyc...       8\n",
              "31  Editor’s note: This post includes language tha...       8\n",
              "32  The   movement, which has been associated with...       8\n",
              "33  On New Year’s Day, Portland restaurant Ava Gen...       8\n",
              "34  U. S. Supreme Court Chief Justice John Roberts...       8"
            ],
            "text/html": [
              "\n",
              "  <div id=\"df-b40b58c2-3ff9-48a5-8f51-bc8b6e815384\">\n",
              "    <div class=\"colab-df-container\">\n",
              "      <div>\n",
              "<style scoped>\n",
              "    .dataframe tbody tr th:only-of-type {\n",
              "        vertical-align: middle;\n",
              "    }\n",
              "\n",
              "    .dataframe tbody tr th {\n",
              "        vertical-align: top;\n",
              "    }\n",
              "\n",
              "    .dataframe thead th {\n",
              "        text-align: right;\n",
              "    }\n",
              "</style>\n",
              "<table border=\"1\" class=\"dataframe\">\n",
              "  <thead>\n",
              "    <tr style=\"text-align: right;\">\n",
              "      <th></th>\n",
              "      <th>Article</th>\n",
              "      <th>topics</th>\n",
              "    </tr>\n",
              "  </thead>\n",
              "  <tbody>\n",
              "    <tr>\n",
              "      <th>0</th>\n",
              "      <td>In the Washington of 2016, even when the polic...</td>\n",
              "      <td>8</td>\n",
              "    </tr>\n",
              "    <tr>\n",
              "      <th>1</th>\n",
              "      <td>Donald Trump has used Twitter  —   his prefe...</td>\n",
              "      <td>8</td>\n",
              "    </tr>\n",
              "    <tr>\n",
              "      <th>2</th>\n",
              "      <td>Donald Trump is unabashedly praising Russian...</td>\n",
              "      <td>8</td>\n",
              "    </tr>\n",
              "    <tr>\n",
              "      <th>3</th>\n",
              "      <td>Updated at 2:50 p. m. ET, Russian President Vl...</td>\n",
              "      <td>4</td>\n",
              "    </tr>\n",
              "    <tr>\n",
              "      <th>4</th>\n",
              "      <td>From photography, illustration and video, to d...</td>\n",
              "      <td>8</td>\n",
              "    </tr>\n",
              "    <tr>\n",
              "      <th>5</th>\n",
              "      <td>I did not want to join yoga class. I hated tho...</td>\n",
              "      <td>8</td>\n",
              "    </tr>\n",
              "    <tr>\n",
              "      <th>6</th>\n",
              "      <td>With a   who has publicly supported the debunk...</td>\n",
              "      <td>8</td>\n",
              "    </tr>\n",
              "    <tr>\n",
              "      <th>7</th>\n",
              "      <td>I was standing by the airport exit, debating w...</td>\n",
              "      <td>8</td>\n",
              "    </tr>\n",
              "    <tr>\n",
              "      <th>8</th>\n",
              "      <td>If movies were trying to be more realistic, pe...</td>\n",
              "      <td>8</td>\n",
              "    </tr>\n",
              "    <tr>\n",
              "      <th>9</th>\n",
              "      <td>Eighteen years ago, on New Year’s Eve, David F...</td>\n",
              "      <td>8</td>\n",
              "    </tr>\n",
              "    <tr>\n",
              "      <th>10</th>\n",
              "      <td>For years now, some of the best, wildest, most...</td>\n",
              "      <td>8</td>\n",
              "    </tr>\n",
              "    <tr>\n",
              "      <th>11</th>\n",
              "      <td>For years now, some of the best, wildest, most...</td>\n",
              "      <td>8</td>\n",
              "    </tr>\n",
              "    <tr>\n",
              "      <th>12</th>\n",
              "      <td>The Colorado River is like a giant bank accoun...</td>\n",
              "      <td>8</td>\n",
              "    </tr>\n",
              "    <tr>\n",
              "      <th>13</th>\n",
              "      <td>For the last installment of NPR’s holiday reci...</td>\n",
              "      <td>8</td>\n",
              "    </tr>\n",
              "    <tr>\n",
              "      <th>14</th>\n",
              "      <td>Being overweight can raise your blood pressure...</td>\n",
              "      <td>8</td>\n",
              "    </tr>\n",
              "    <tr>\n",
              "      <th>15</th>\n",
              "      <td>Who’s the YouTube star of 2016? Adele singing ...</td>\n",
              "      <td>8</td>\n",
              "    </tr>\n",
              "    <tr>\n",
              "      <th>16</th>\n",
              "      <td>Here’s a quick roundup of some of the   you ma...</td>\n",
              "      <td>8</td>\n",
              "    </tr>\n",
              "    <tr>\n",
              "      <th>17</th>\n",
              "      <td>Ben Johnston doesn’t follow the rules of music...</td>\n",
              "      <td>8</td>\n",
              "    </tr>\n",
              "    <tr>\n",
              "      <th>18</th>\n",
              "      <td>David Bowie, Prince and George Michael are all...</td>\n",
              "      <td>8</td>\n",
              "    </tr>\n",
              "    <tr>\n",
              "      <th>19</th>\n",
              "      <td>In November, the typically straitlaced Office ...</td>\n",
              "      <td>8</td>\n",
              "    </tr>\n",
              "    <tr>\n",
              "      <th>20</th>\n",
              "      <td>This is the time of year when everybody is mak...</td>\n",
              "      <td>8</td>\n",
              "    </tr>\n",
              "    <tr>\n",
              "      <th>21</th>\n",
              "      <td>Terrorist attacks, hurricanes, a divisive U. S...</td>\n",
              "      <td>8</td>\n",
              "    </tr>\n",
              "    <tr>\n",
              "      <th>22</th>\n",
              "      <td>We all experience stress at work, no matter th...</td>\n",
              "      <td>8</td>\n",
              "    </tr>\n",
              "    <tr>\n",
              "      <th>23</th>\n",
              "      <td>When John Fahey recorded The New Possibility i...</td>\n",
              "      <td>8</td>\n",
              "    </tr>\n",
              "    <tr>\n",
              "      <th>24</th>\n",
              "      <td>This year was one of   hacks, exploding smartp...</td>\n",
              "      <td>8</td>\n",
              "    </tr>\n",
              "    <tr>\n",
              "      <th>25</th>\n",
              "      <td>From West Virginia to Wyoming, coal country ov...</td>\n",
              "      <td>8</td>\n",
              "    </tr>\n",
              "    <tr>\n",
              "      <th>26</th>\n",
              "      <td>Updated Jan. 1 at 9:56 a. m. ET, At least 39 p...</td>\n",
              "      <td>4</td>\n",
              "    </tr>\n",
              "    <tr>\n",
              "      <th>27</th>\n",
              "      <td>On the morning of Jan. 1, Los Angeles resident...</td>\n",
              "      <td>8</td>\n",
              "    </tr>\n",
              "    <tr>\n",
              "      <th>28</th>\n",
              "      <td>In September, reproductive endocrinologist Joh...</td>\n",
              "      <td>8</td>\n",
              "    </tr>\n",
              "    <tr>\n",
              "      <th>29</th>\n",
              "      <td>In an effort to take advantage of the intimate...</td>\n",
              "      <td>8</td>\n",
              "    </tr>\n",
              "    <tr>\n",
              "      <th>30</th>\n",
              "      <td>Much has been said about the physical and psyc...</td>\n",
              "      <td>8</td>\n",
              "    </tr>\n",
              "    <tr>\n",
              "      <th>31</th>\n",
              "      <td>Editor’s note: This post includes language tha...</td>\n",
              "      <td>8</td>\n",
              "    </tr>\n",
              "    <tr>\n",
              "      <th>32</th>\n",
              "      <td>The   movement, which has been associated with...</td>\n",
              "      <td>8</td>\n",
              "    </tr>\n",
              "    <tr>\n",
              "      <th>33</th>\n",
              "      <td>On New Year’s Day, Portland restaurant Ava Gen...</td>\n",
              "      <td>8</td>\n",
              "    </tr>\n",
              "    <tr>\n",
              "      <th>34</th>\n",
              "      <td>U. S. Supreme Court Chief Justice John Roberts...</td>\n",
              "      <td>8</td>\n",
              "    </tr>\n",
              "  </tbody>\n",
              "</table>\n",
              "</div>\n",
              "      <button class=\"colab-df-convert\" onclick=\"convertToInteractive('df-b40b58c2-3ff9-48a5-8f51-bc8b6e815384')\"\n",
              "              title=\"Convert this dataframe to an interactive table.\"\n",
              "              style=\"display:none;\">\n",
              "        \n",
              "  <svg xmlns=\"http://www.w3.org/2000/svg\" height=\"24px\"viewBox=\"0 0 24 24\"\n",
              "       width=\"24px\">\n",
              "    <path d=\"M0 0h24v24H0V0z\" fill=\"none\"/>\n",
              "    <path d=\"M18.56 5.44l.94 2.06.94-2.06 2.06-.94-2.06-.94-.94-2.06-.94 2.06-2.06.94zm-11 1L8.5 8.5l.94-2.06 2.06-.94-2.06-.94L8.5 2.5l-.94 2.06-2.06.94zm10 10l.94 2.06.94-2.06 2.06-.94-2.06-.94-.94-2.06-.94 2.06-2.06.94z\"/><path d=\"M17.41 7.96l-1.37-1.37c-.4-.4-.92-.59-1.43-.59-.52 0-1.04.2-1.43.59L10.3 9.45l-7.72 7.72c-.78.78-.78 2.05 0 2.83L4 21.41c.39.39.9.59 1.41.59.51 0 1.02-.2 1.41-.59l7.78-7.78 2.81-2.81c.8-.78.8-2.07 0-2.86zM5.41 20L4 18.59l7.72-7.72 1.47 1.35L5.41 20z\"/>\n",
              "  </svg>\n",
              "      </button>\n",
              "      \n",
              "  <style>\n",
              "    .colab-df-container {\n",
              "      display:flex;\n",
              "      flex-wrap:wrap;\n",
              "      gap: 12px;\n",
              "    }\n",
              "\n",
              "    .colab-df-convert {\n",
              "      background-color: #E8F0FE;\n",
              "      border: none;\n",
              "      border-radius: 50%;\n",
              "      cursor: pointer;\n",
              "      display: none;\n",
              "      fill: #1967D2;\n",
              "      height: 32px;\n",
              "      padding: 0 0 0 0;\n",
              "      width: 32px;\n",
              "    }\n",
              "\n",
              "    .colab-df-convert:hover {\n",
              "      background-color: #E2EBFA;\n",
              "      box-shadow: 0px 1px 2px rgba(60, 64, 67, 0.3), 0px 1px 3px 1px rgba(60, 64, 67, 0.15);\n",
              "      fill: #174EA6;\n",
              "    }\n",
              "\n",
              "    [theme=dark] .colab-df-convert {\n",
              "      background-color: #3B4455;\n",
              "      fill: #D2E3FC;\n",
              "    }\n",
              "\n",
              "    [theme=dark] .colab-df-convert:hover {\n",
              "      background-color: #434B5C;\n",
              "      box-shadow: 0px 1px 3px 1px rgba(0, 0, 0, 0.15);\n",
              "      filter: drop-shadow(0px 1px 2px rgba(0, 0, 0, 0.3));\n",
              "      fill: #FFFFFF;\n",
              "    }\n",
              "  </style>\n",
              "\n",
              "      <script>\n",
              "        const buttonEl =\n",
              "          document.querySelector('#df-b40b58c2-3ff9-48a5-8f51-bc8b6e815384 button.colab-df-convert');\n",
              "        buttonEl.style.display =\n",
              "          google.colab.kernel.accessAllowed ? 'block' : 'none';\n",
              "\n",
              "        async function convertToInteractive(key) {\n",
              "          const element = document.querySelector('#df-b40b58c2-3ff9-48a5-8f51-bc8b6e815384');\n",
              "          const dataTable =\n",
              "            await google.colab.kernel.invokeFunction('convertToInteractive',\n",
              "                                                     [key], {});\n",
              "          if (!dataTable) return;\n",
              "\n",
              "          const docLinkHtml = 'Like what you see? Visit the ' +\n",
              "            '<a target=\"_blank\" href=https://colab.research.google.com/notebooks/data_table.ipynb>data table notebook</a>'\n",
              "            + ' to learn more about interactive tables.';\n",
              "          element.innerHTML = '';\n",
              "          dataTable['output_type'] = 'display_data';\n",
              "          await google.colab.output.renderOutput(dataTable, element);\n",
              "          const docLink = document.createElement('div');\n",
              "          docLink.innerHTML = docLinkHtml;\n",
              "          element.appendChild(docLink);\n",
              "        }\n",
              "      </script>\n",
              "    </div>\n",
              "  </div>\n",
              "  "
            ]
          },
          "metadata": {},
          "execution_count": 63
        }
      ]
    },
    {
      "cell_type": "code",
      "source": [],
      "metadata": {
        "id": "awvpYPWa259a"
      },
      "execution_count": 63,
      "outputs": []
    }
  ]
}