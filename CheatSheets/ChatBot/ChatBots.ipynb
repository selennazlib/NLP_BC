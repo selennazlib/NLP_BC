{
  "nbformat": 4,
  "nbformat_minor": 0,
  "metadata": {
    "colab": {
      "provenance": []
    },
    "kernelspec": {
      "name": "python3",
      "display_name": "Python 3"
    },
    "language_info": {
      "name": "python"
    }
  },
  "cells": [
    {
      "cell_type": "code",
      "execution_count": 205,
      "metadata": {
        "id": "TCyWv9x4FPKY"
      },
      "outputs": [],
      "source": [
        "# import libs\n",
        "import numpy as np\n",
        "import pickle"
      ]
    },
    {
      "cell_type": "code",
      "source": [
        "# get the train data\n",
        "with open ('train_qa.txt', 'rb') as f:\n",
        "  train_data = pickle.load(f) \n",
        "\n",
        "# get the test data\n",
        "with open ('test_qa.txt', 'rb') as f:\n",
        "  test_data = pickle.load(f) "
      ],
      "metadata": {
        "id": "RctarshYL7pz"
      },
      "execution_count": 206,
      "outputs": []
    },
    {
      "cell_type": "code",
      "source": [
        "type(train_data)"
      ],
      "metadata": {
        "colab": {
          "base_uri": "https://localhost:8080/"
        },
        "id": "zft1nMTXMmSM",
        "outputId": "7a235c7a-ea56-444c-9426-bc4cfbf20740"
      },
      "execution_count": 207,
      "outputs": [
        {
          "output_type": "execute_result",
          "data": {
            "text/plain": [
              "list"
            ]
          },
          "metadata": {},
          "execution_count": 207
        }
      ]
    },
    {
      "cell_type": "code",
      "source": [
        "print(\"Length of the training data: \", len(train_data))\n",
        "print(\"Length of the test data: \", len(test_data))"
      ],
      "metadata": {
        "colab": {
          "base_uri": "https://localhost:8080/"
        },
        "id": "ux84HJIiMscN",
        "outputId": "1c37a95f-027e-481a-c83c-ef0d7bf3d4e9"
      },
      "execution_count": 208,
      "outputs": [
        {
          "output_type": "stream",
          "name": "stdout",
          "text": [
            "Length of the training data:  10000\n",
            "Length of the test data:  1000\n"
          ]
        }
      ]
    },
    {
      "cell_type": "code",
      "source": [
        "train_data[0] # story -> question -> answer"
      ],
      "metadata": {
        "colab": {
          "base_uri": "https://localhost:8080/"
        },
        "id": "5iTef-qoM36K",
        "outputId": "1051d828-5126-4ef4-ae2d-8112954f575f"
      },
      "execution_count": 209,
      "outputs": [
        {
          "output_type": "execute_result",
          "data": {
            "text/plain": [
              "(['Mary',\n",
              "  'moved',\n",
              "  'to',\n",
              "  'the',\n",
              "  'bathroom',\n",
              "  '.',\n",
              "  'Sandra',\n",
              "  'journeyed',\n",
              "  'to',\n",
              "  'the',\n",
              "  'bedroom',\n",
              "  '.'],\n",
              " ['Is', 'Sandra', 'in', 'the', 'hallway', '?'],\n",
              " 'no')"
            ]
          },
          "metadata": {},
          "execution_count": 209
        }
      ]
    },
    {
      "cell_type": "code",
      "source": [
        "' '.join(train_data[0][0]) # story"
      ],
      "metadata": {
        "colab": {
          "base_uri": "https://localhost:8080/",
          "height": 35
        },
        "id": "fZIJIt4KM_Tz",
        "outputId": "e3d74050-fd7d-4ba9-ee0c-a40751899848"
      },
      "execution_count": 210,
      "outputs": [
        {
          "output_type": "execute_result",
          "data": {
            "text/plain": [
              "'Mary moved to the bathroom . Sandra journeyed to the bedroom .'"
            ],
            "application/vnd.google.colaboratory.intrinsic+json": {
              "type": "string"
            }
          },
          "metadata": {},
          "execution_count": 210
        }
      ]
    },
    {
      "cell_type": "code",
      "source": [
        "' '.join(train_data[0][1]) # question"
      ],
      "metadata": {
        "colab": {
          "base_uri": "https://localhost:8080/",
          "height": 35
        },
        "id": "tzU_CUM0NK2N",
        "outputId": "a380e98a-943c-43bb-bbd1-3c07f820303a"
      },
      "execution_count": 211,
      "outputs": [
        {
          "output_type": "execute_result",
          "data": {
            "text/plain": [
              "'Is Sandra in the hallway ?'"
            ],
            "application/vnd.google.colaboratory.intrinsic+json": {
              "type": "string"
            }
          },
          "metadata": {},
          "execution_count": 211
        }
      ]
    },
    {
      "cell_type": "code",
      "source": [
        "' '.join(train_data[0][2]) # answer"
      ],
      "metadata": {
        "colab": {
          "base_uri": "https://localhost:8080/",
          "height": 35
        },
        "id": "9W2HXWYnOnPS",
        "outputId": "0cd24da1-5fab-45b5-d6a1-6caef4882ab0"
      },
      "execution_count": 212,
      "outputs": [
        {
          "output_type": "execute_result",
          "data": {
            "text/plain": [
              "'n o'"
            ],
            "application/vnd.google.colaboratory.intrinsic+json": {
              "type": "string"
            }
          },
          "metadata": {},
          "execution_count": 212
        }
      ]
    },
    {
      "cell_type": "code",
      "source": [
        "data = train_data + test_data"
      ],
      "metadata": {
        "id": "d56icbwLOqqL"
      },
      "execution_count": 213,
      "outputs": []
    },
    {
      "cell_type": "code",
      "source": [
        "len(data)"
      ],
      "metadata": {
        "colab": {
          "base_uri": "https://localhost:8080/"
        },
        "id": "emkstJaKO0Pq",
        "outputId": "bbb96eba-f34a-4fb9-d0c2-e6b974173fff"
      },
      "execution_count": 214,
      "outputs": [
        {
          "output_type": "execute_result",
          "data": {
            "text/plain": [
              "11000"
            ]
          },
          "metadata": {},
          "execution_count": 214
        }
      ]
    },
    {
      "cell_type": "code",
      "source": [
        "# Set items are unordered, unchangeable, and do not allow duplicate values.\n",
        "vocab = set()\n",
        "\n",
        "for story, question, answer in data:\n",
        "  # Union of two given sets is the set which contains all the elements of both the sets\n",
        "  vocab = vocab.union(set(story))\n",
        "  vocab = vocab.union(set(question))"
      ],
      "metadata": {
        "id": "c4kjkZTMO1Nb"
      },
      "execution_count": 215,
      "outputs": []
    },
    {
      "cell_type": "code",
      "source": [
        "# add vocab to possible answers\n",
        "vocab.add('no')\n",
        "vocab.add('yes')"
      ],
      "metadata": {
        "id": "ZDILYpOXQGAF"
      },
      "execution_count": 216,
      "outputs": []
    },
    {
      "cell_type": "code",
      "source": [
        "vocab"
      ],
      "metadata": {
        "colab": {
          "base_uri": "https://localhost:8080/"
        },
        "id": "hvDfaCBAQKbQ",
        "outputId": "61542b78-951b-4e6b-b500-bcb3418d3174"
      },
      "execution_count": 217,
      "outputs": [
        {
          "output_type": "execute_result",
          "data": {
            "text/plain": [
              "{'.',\n",
              " '?',\n",
              " 'Daniel',\n",
              " 'Is',\n",
              " 'John',\n",
              " 'Mary',\n",
              " 'Sandra',\n",
              " 'apple',\n",
              " 'back',\n",
              " 'bathroom',\n",
              " 'bedroom',\n",
              " 'discarded',\n",
              " 'down',\n",
              " 'dropped',\n",
              " 'football',\n",
              " 'garden',\n",
              " 'got',\n",
              " 'grabbed',\n",
              " 'hallway',\n",
              " 'in',\n",
              " 'journeyed',\n",
              " 'kitchen',\n",
              " 'left',\n",
              " 'milk',\n",
              " 'moved',\n",
              " 'no',\n",
              " 'office',\n",
              " 'picked',\n",
              " 'put',\n",
              " 'the',\n",
              " 'there',\n",
              " 'to',\n",
              " 'took',\n",
              " 'travelled',\n",
              " 'up',\n",
              " 'went',\n",
              " 'yes'}"
            ]
          },
          "metadata": {},
          "execution_count": 217
        }
      ]
    },
    {
      "cell_type": "code",
      "source": [
        "vocab_len = len(vocab) + 1 # +1 is for the placeholder"
      ],
      "metadata": {
        "id": "luXr2fKOQMRz"
      },
      "execution_count": 218,
      "outputs": []
    },
    {
      "cell_type": "code",
      "source": [
        "vocab_len"
      ],
      "metadata": {
        "colab": {
          "base_uri": "https://localhost:8080/"
        },
        "id": "Gr9jP3pbQovt",
        "outputId": "1bf768a3-5002-4d37-a8f1-c1e705a2017e"
      },
      "execution_count": 219,
      "outputs": [
        {
          "output_type": "execute_result",
          "data": {
            "text/plain": [
              "38"
            ]
          },
          "metadata": {},
          "execution_count": 219
        }
      ]
    },
    {
      "cell_type": "code",
      "source": [
        "# longest story\n",
        "data_len = [len(ldata[0]) for ldata in data] \n",
        "max_story_len = max(data_len)\n",
        "max_story_len"
      ],
      "metadata": {
        "colab": {
          "base_uri": "https://localhost:8080/"
        },
        "id": "1RK3yiH-Qtw9",
        "outputId": "2b5d38f4-3ac9-4814-be38-690952434675"
      },
      "execution_count": 220,
      "outputs": [
        {
          "output_type": "execute_result",
          "data": {
            "text/plain": [
              "156"
            ]
          },
          "metadata": {},
          "execution_count": 220
        }
      ]
    },
    {
      "cell_type": "code",
      "source": [
        "# longest question \n",
        "max_ques_len = max([len(ldata[1]) for ldata in data])\n",
        "max_ques_len"
      ],
      "metadata": {
        "colab": {
          "base_uri": "https://localhost:8080/"
        },
        "id": "cy0dOROwQzSZ",
        "outputId": "842ec62c-3eb7-4918-e78a-777d9cc781c6"
      },
      "execution_count": 221,
      "outputs": [
        {
          "output_type": "execute_result",
          "data": {
            "text/plain": [
              "6"
            ]
          },
          "metadata": {},
          "execution_count": 221
        }
      ]
    },
    {
      "cell_type": "code",
      "source": [
        "from keras.preprocessing.sequence import pad_sequences\n",
        "from keras.preprocessing.text import Tokenizer"
      ],
      "metadata": {
        "id": "8LEgQF4uRS61"
      },
      "execution_count": 222,
      "outputs": []
    },
    {
      "cell_type": "code",
      "source": [
        "tokenizer = Tokenizer(filters=[]) # filters is an empty list because we don't wanna filter any kind of punctuation\n",
        "tokenizer.fit_on_texts(vocab)"
      ],
      "metadata": {
        "id": "QJXzwQ8XR2V-"
      },
      "execution_count": 223,
      "outputs": []
    },
    {
      "cell_type": "code",
      "source": [
        "tokenizer.word_index # automatically vocabs are lower case"
      ],
      "metadata": {
        "colab": {
          "base_uri": "https://localhost:8080/"
        },
        "id": "iaqdn6MaSRFQ",
        "outputId": "ed0b3ef8-3040-4d3e-99c2-79c7b42463e6"
      },
      "execution_count": 224,
      "outputs": [
        {
          "output_type": "execute_result",
          "data": {
            "text/plain": [
              "{'is': 1,\n",
              " 'garden': 2,\n",
              " 'hallway': 3,\n",
              " 'office': 4,\n",
              " 'back': 5,\n",
              " 'there': 6,\n",
              " 'daniel': 7,\n",
              " 'dropped': 8,\n",
              " 'kitchen': 9,\n",
              " 'travelled': 10,\n",
              " 'yes': 11,\n",
              " 'the': 12,\n",
              " 'in': 13,\n",
              " 'john': 14,\n",
              " 'to': 15,\n",
              " '?': 16,\n",
              " 'apple': 17,\n",
              " 'bedroom': 18,\n",
              " 'up': 19,\n",
              " 'put': 20,\n",
              " 'bathroom': 21,\n",
              " 'moved': 22,\n",
              " 'picked': 23,\n",
              " 'down': 24,\n",
              " 'grabbed': 25,\n",
              " 'milk': 26,\n",
              " '.': 27,\n",
              " 'left': 28,\n",
              " 'no': 29,\n",
              " 'went': 30,\n",
              " 'got': 31,\n",
              " 'took': 32,\n",
              " 'mary': 33,\n",
              " 'football': 34,\n",
              " 'sandra': 35,\n",
              " 'journeyed': 36,\n",
              " 'discarded': 37}"
            ]
          },
          "metadata": {},
          "execution_count": 224
        }
      ]
    },
    {
      "cell_type": "code",
      "source": [
        "train_story_text = []\n",
        "train_quest_text = []\n",
        "train_answer_text = []\n",
        "\n",
        "for story, question, answer in train_data:\n",
        "  train_story_text.append(story)\n",
        "  train_quest_text.append(question)\n",
        "  train_answer_text.append(answer) "
      ],
      "metadata": {
        "id": "_1Qmf1K4SUd7"
      },
      "execution_count": 225,
      "outputs": []
    },
    {
      "cell_type": "code",
      "source": [
        "train_quest_text[:5]"
      ],
      "metadata": {
        "colab": {
          "base_uri": "https://localhost:8080/"
        },
        "id": "CrKO-Z1sTIYX",
        "outputId": "3cc94c23-a521-4cee-84c0-1f2c9705e334"
      },
      "execution_count": 226,
      "outputs": [
        {
          "output_type": "execute_result",
          "data": {
            "text/plain": [
              "[['Is', 'Sandra', 'in', 'the', 'hallway', '?'],\n",
              " ['Is', 'Daniel', 'in', 'the', 'bathroom', '?'],\n",
              " ['Is', 'Daniel', 'in', 'the', 'office', '?'],\n",
              " ['Is', 'Daniel', 'in', 'the', 'bedroom', '?'],\n",
              " ['Is', 'Daniel', 'in', 'the', 'bedroom', '?']]"
            ]
          },
          "metadata": {},
          "execution_count": 226
        }
      ]
    },
    {
      "cell_type": "code",
      "source": [
        "train_story_seq = tokenizer.texts_to_sequences(train_story_text)\n",
        "len(train_story_seq)"
      ],
      "metadata": {
        "colab": {
          "base_uri": "https://localhost:8080/"
        },
        "id": "C10cn4j-TJ3r",
        "outputId": "8b10a080-e96d-4d36-bec5-0e9e2c0fb1e9"
      },
      "execution_count": 227,
      "outputs": [
        {
          "output_type": "execute_result",
          "data": {
            "text/plain": [
              "10000"
            ]
          },
          "metadata": {},
          "execution_count": 227
        }
      ]
    },
    {
      "cell_type": "code",
      "source": [
        "train_story_seq[:2]"
      ],
      "metadata": {
        "colab": {
          "base_uri": "https://localhost:8080/"
        },
        "id": "clGJasWlTgpE",
        "outputId": "592e354d-223b-42da-edaa-9b4f99239f93"
      },
      "execution_count": 228,
      "outputs": [
        {
          "output_type": "execute_result",
          "data": {
            "text/plain": [
              "[[33, 22, 15, 12, 21, 27, 35, 36, 15, 12, 18, 27],\n",
              " [33,\n",
              "  22,\n",
              "  15,\n",
              "  12,\n",
              "  21,\n",
              "  27,\n",
              "  35,\n",
              "  36,\n",
              "  15,\n",
              "  12,\n",
              "  18,\n",
              "  27,\n",
              "  33,\n",
              "  30,\n",
              "  5,\n",
              "  15,\n",
              "  12,\n",
              "  18,\n",
              "  27,\n",
              "  7,\n",
              "  30,\n",
              "  5,\n",
              "  15,\n",
              "  12,\n",
              "  3,\n",
              "  27]]"
            ]
          },
          "metadata": {},
          "execution_count": 228
        }
      ]
    },
    {
      "cell_type": "code",
      "source": [
        "def vectorize_stories(data, word_index=tokenizer.word_index, max_story_len=max_story_len, max_ques_len=max_ques_len):\n",
        "  X = [] # stories\n",
        "  Xq = [] # questions\n",
        "  Y = [] # answers\n",
        "\n",
        "  for story, query, answer in data:\n",
        "    x = [word_index[word.lower()] for word in story]\n",
        "    xq = [word_index[word.lower()] for word in query]\n",
        "\n",
        "    y = np.zeros(len(word_index)+1)\n",
        "    y[word_index[answer]] = 1\n",
        "\n",
        "    X.append(x)\n",
        "    Xq.append(xq)\n",
        "    Y.append(y)\n",
        "\n",
        "  return (pad_sequences(X, maxlen=max_story_len), pad_sequences(Xq, maxlen=max_ques_len), np.array(Y))"
      ],
      "metadata": {
        "id": "gqDZW_9WTj2Q"
      },
      "execution_count": 229,
      "outputs": []
    },
    {
      "cell_type": "code",
      "source": [
        "input_train, queries_train, answer_train = vectorize_stories(train_data)"
      ],
      "metadata": {
        "id": "jFWiVssDVVXg"
      },
      "execution_count": 230,
      "outputs": []
    },
    {
      "cell_type": "code",
      "source": [
        "input_test, queries_test, answer_test = vectorize_stories(test_data)"
      ],
      "metadata": {
        "id": "kSf6d-UoVhgP"
      },
      "execution_count": 231,
      "outputs": []
    },
    {
      "cell_type": "code",
      "source": [
        "input_test"
      ],
      "metadata": {
        "colab": {
          "base_uri": "https://localhost:8080/"
        },
        "id": "GBym1V-PW7DI",
        "outputId": "671be18d-5d12-4387-c8cb-b0600ee73cda"
      },
      "execution_count": 232,
      "outputs": [
        {
          "output_type": "execute_result",
          "data": {
            "text/plain": [
              "array([[ 0,  0,  0, ..., 12, 18, 27],\n",
              "       [ 0,  0,  0, ..., 12,  2, 27],\n",
              "       [ 0,  0,  0, ..., 12,  2, 27],\n",
              "       ...,\n",
              "       [ 0,  0,  0, ..., 12, 17, 27],\n",
              "       [ 0,  0,  0, ..., 12,  2, 27],\n",
              "       [ 0,  0,  0, ..., 17,  6, 27]], dtype=int32)"
            ]
          },
          "metadata": {},
          "execution_count": 232
        }
      ]
    },
    {
      "cell_type": "code",
      "source": [
        "# end-to-end memory network\n",
        "from keras.models import Sequential, Model\n",
        "from keras.layers.embeddings import Embedding\n",
        "from keras.layers import Input, Activation, Dense, Permute, Dropout, add, dot, concatenate, LSTM"
      ],
      "metadata": {
        "id": "jj7SX8LhW_ii"
      },
      "execution_count": 233,
      "outputs": []
    },
    {
      "cell_type": "code",
      "source": [
        "# placeholder shape=(max_story_len, batch_size)\n",
        "input_sequence = Input((max_story_len, ))\n",
        "question = Input((max_ques_len, ))"
      ],
      "metadata": {
        "id": "NiVq0pBjXDyj"
      },
      "execution_count": 234,
      "outputs": []
    },
    {
      "cell_type": "code",
      "source": [
        "# input encoder M\n",
        "input_encoder_m = Sequential()\n",
        "input_encoder_m.add(Embedding(input_dim=vocab_len, output_dim=64))\n",
        "input_encoder_m.add(Dropout((0.3)))"
      ],
      "metadata": {
        "id": "CSAHZk7PYjkr"
      },
      "execution_count": 235,
      "outputs": []
    },
    {
      "cell_type": "code",
      "source": [
        "# input encoder C\n",
        "input_encoder_c = Sequential()\n",
        "input_encoder_c.add(Embedding(input_dim=vocab_len, output_dim=max_ques_len))\n",
        "input_encoder_c.add(Dropout((0.3)))"
      ],
      "metadata": {
        "id": "oHRwU2S0ZT-Y"
      },
      "execution_count": 236,
      "outputs": []
    },
    {
      "cell_type": "code",
      "source": [
        "# question encoder\n",
        "ques_encoder = Sequential()\n",
        "ques_encoder.add(Embedding(input_dim=vocab_len, output_dim=64, input_length=max_ques_len))\n",
        "ques_encoder.add(Dropout((0.3)))"
      ],
      "metadata": {
        "id": "yijQxqOpZoB1"
      },
      "execution_count": 237,
      "outputs": []
    },
    {
      "cell_type": "code",
      "source": [
        "# encoded <-- encoder(input)\n",
        "input_encoded_m =  input_encoder_m(input_sequence)\n",
        "input_encoded_c =  input_encoder_c(input_sequence)\n",
        "ques_encoded =  ques_encoder(question)"
      ],
      "metadata": {
        "id": "FjmWBZk0Z7Xl"
      },
      "execution_count": 238,
      "outputs": []
    },
    {
      "cell_type": "code",
      "source": [
        "match = dot([input_encoded_m, ques_encoded], axes=(2, 2))\n",
        "match = Activation('softmax')(match)"
      ],
      "metadata": {
        "id": "P81oSltsacRh"
      },
      "execution_count": 239,
      "outputs": []
    },
    {
      "cell_type": "code",
      "source": [
        "response = add([match, input_encoded_c])\n",
        "response = Permute((2, 1))(response)"
      ],
      "metadata": {
        "id": "s1gq16KUarqX"
      },
      "execution_count": 240,
      "outputs": []
    },
    {
      "cell_type": "code",
      "source": [
        "answer = concatenate([response, ques_encoded])\n",
        "answer"
      ],
      "metadata": {
        "colab": {
          "base_uri": "https://localhost:8080/"
        },
        "id": "YWaQ7Zr2az9Q",
        "outputId": "20f6441a-ea73-464d-95d6-a18ca39ebb6e"
      },
      "execution_count": 241,
      "outputs": [
        {
          "output_type": "execute_result",
          "data": {
            "text/plain": [
              "<KerasTensor: shape=(None, 6, 220) dtype=float32 (created by layer 'concatenate_4')>"
            ]
          },
          "metadata": {},
          "execution_count": 241
        }
      ]
    },
    {
      "cell_type": "code",
      "source": [
        "answer = LSTM(32)(answer)\n",
        "answer = Dropout(0.5)(answer)\n",
        "answer = Dense(vocab_len)(answer)"
      ],
      "metadata": {
        "id": "J4z2-oPra7KM"
      },
      "execution_count": 242,
      "outputs": []
    },
    {
      "cell_type": "code",
      "source": [
        "answer = Activation('softmax')(answer)\n",
        "model = Model([input_sequence, question], answer)"
      ],
      "metadata": {
        "id": "Z-j1aYfibQgn"
      },
      "execution_count": 243,
      "outputs": []
    },
    {
      "cell_type": "code",
      "source": [
        "model.compile(optimizer='rmsprop', loss='categorical_crossentropy', metrics=['accuracy'])"
      ],
      "metadata": {
        "id": "LyIhNUJcbckv"
      },
      "execution_count": 244,
      "outputs": []
    },
    {
      "cell_type": "code",
      "source": [
        "model.summary()"
      ],
      "metadata": {
        "colab": {
          "base_uri": "https://localhost:8080/"
        },
        "id": "IAYtBRwIcBDP",
        "outputId": "111ebb32-4f29-4a7a-ab5a-0f4828056738"
      },
      "execution_count": 245,
      "outputs": [
        {
          "output_type": "stream",
          "name": "stdout",
          "text": [
            "Model: \"model_5\"\n",
            "__________________________________________________________________________________________________\n",
            " Layer (type)                   Output Shape         Param #     Connected to                     \n",
            "==================================================================================================\n",
            " input_9 (InputLayer)           [(None, 156)]        0           []                               \n",
            "                                                                                                  \n",
            " input_10 (InputLayer)          [(None, 6)]          0           []                               \n",
            "                                                                                                  \n",
            " sequential_13 (Sequential)     (None, None, 64)     2432        ['input_9[0][0]']                \n",
            "                                                                                                  \n",
            " sequential_15 (Sequential)     (None, 6, 64)        2432        ['input_10[0][0]']               \n",
            "                                                                                                  \n",
            " dot_4 (Dot)                    (None, 156, 6)       0           ['sequential_13[0][0]',          \n",
            "                                                                  'sequential_15[0][0]']          \n",
            "                                                                                                  \n",
            " activation_9 (Activation)      (None, 156, 6)       0           ['dot_4[0][0]']                  \n",
            "                                                                                                  \n",
            " sequential_14 (Sequential)     (None, None, 6)      228         ['input_9[0][0]']                \n",
            "                                                                                                  \n",
            " add_4 (Add)                    (None, 156, 6)       0           ['activation_9[0][0]',           \n",
            "                                                                  'sequential_14[0][0]']          \n",
            "                                                                                                  \n",
            " permute_4 (Permute)            (None, 6, 156)       0           ['add_4[0][0]']                  \n",
            "                                                                                                  \n",
            " concatenate_4 (Concatenate)    (None, 6, 220)       0           ['permute_4[0][0]',              \n",
            "                                                                  'sequential_15[0][0]']          \n",
            "                                                                                                  \n",
            " lstm_3 (LSTM)                  (None, 32)           32384       ['concatenate_4[0][0]']          \n",
            "                                                                                                  \n",
            " dropout_18 (Dropout)           (None, 32)           0           ['lstm_3[0][0]']                 \n",
            "                                                                                                  \n",
            " dense_3 (Dense)                (None, 38)           1254        ['dropout_18[0][0]']             \n",
            "                                                                                                  \n",
            " activation_10 (Activation)     (None, 38)           0           ['dense_3[0][0]']                \n",
            "                                                                                                  \n",
            "==================================================================================================\n",
            "Total params: 38,730\n",
            "Trainable params: 38,730\n",
            "Non-trainable params: 0\n",
            "__________________________________________________________________________________________________\n"
          ]
        }
      ]
    },
    {
      "cell_type": "code",
      "source": [
        "history = model.fit([input_train, queries_train], answer_train, batch_size=32, epochs=15, validation_data=([input_test, queries_test], answer_test))"
      ],
      "metadata": {
        "colab": {
          "base_uri": "https://localhost:8080/"
        },
        "id": "wGSFfMG7cCGU",
        "outputId": "16c41403-2d73-4b33-c4c4-ace4eb5386a8"
      },
      "execution_count": 249,
      "outputs": [
        {
          "output_type": "stream",
          "name": "stdout",
          "text": [
            "Epoch 1/15\n",
            "313/313 [==============================] - 5s 16ms/step - loss: 0.6937 - accuracy: 0.5031 - val_loss: 0.6937 - val_accuracy: 0.4850\n",
            "Epoch 2/15\n",
            "313/313 [==============================] - 5s 15ms/step - loss: 0.6905 - accuracy: 0.5135 - val_loss: 0.6879 - val_accuracy: 0.5140\n",
            "Epoch 3/15\n",
            "313/313 [==============================] - 5s 15ms/step - loss: 0.6672 - accuracy: 0.5726 - val_loss: 0.6544 - val_accuracy: 0.6250\n",
            "Epoch 4/15\n",
            "313/313 [==============================] - 5s 15ms/step - loss: 0.6414 - accuracy: 0.6310 - val_loss: 0.6208 - val_accuracy: 0.6720\n",
            "Epoch 5/15\n",
            "313/313 [==============================] - 5s 15ms/step - loss: 0.6229 - accuracy: 0.6600 - val_loss: 0.6108 - val_accuracy: 0.6860\n",
            "Epoch 6/15\n",
            "313/313 [==============================] - 5s 15ms/step - loss: 0.6172 - accuracy: 0.6698 - val_loss: 0.6056 - val_accuracy: 0.6860\n",
            "Epoch 7/15\n",
            "313/313 [==============================] - 5s 15ms/step - loss: 0.5993 - accuracy: 0.6834 - val_loss: 0.5989 - val_accuracy: 0.6920\n",
            "Epoch 8/15\n",
            "313/313 [==============================] - 5s 15ms/step - loss: 0.5903 - accuracy: 0.6963 - val_loss: 0.5949 - val_accuracy: 0.6930\n",
            "Epoch 9/15\n",
            "313/313 [==============================] - 5s 15ms/step - loss: 0.5717 - accuracy: 0.7156 - val_loss: 0.5830 - val_accuracy: 0.7030\n",
            "Epoch 10/15\n",
            "313/313 [==============================] - 5s 15ms/step - loss: 0.5637 - accuracy: 0.7210 - val_loss: 0.5809 - val_accuracy: 0.7060\n",
            "Epoch 11/15\n",
            "313/313 [==============================] - 5s 15ms/step - loss: 0.5408 - accuracy: 0.7352 - val_loss: 0.5582 - val_accuracy: 0.7150\n",
            "Epoch 12/15\n",
            "313/313 [==============================] - 6s 19ms/step - loss: 0.5280 - accuracy: 0.7460 - val_loss: 0.5265 - val_accuracy: 0.7370\n",
            "Epoch 13/15\n",
            "313/313 [==============================] - 5s 15ms/step - loss: 0.5113 - accuracy: 0.7608 - val_loss: 0.5231 - val_accuracy: 0.7500\n",
            "Epoch 14/15\n",
            "313/313 [==============================] - 5s 15ms/step - loss: 0.4945 - accuracy: 0.7721 - val_loss: 0.5078 - val_accuracy: 0.7770\n",
            "Epoch 15/15\n",
            "313/313 [==============================] - 5s 15ms/step - loss: 0.4875 - accuracy: 0.7760 - val_loss: 0.4972 - val_accuracy: 0.7730\n"
          ]
        }
      ]
    },
    {
      "cell_type": "code",
      "source": [
        "import matplotlib.pyplot as plt\n",
        "\n",
        "plt.plot(history.history['accuracy'])\n",
        "plt.plot(history.history['val_accuracy'])\n",
        "plt.title('Model accuracy')"
      ],
      "metadata": {
        "colab": {
          "base_uri": "https://localhost:8080/",
          "height": 298
        },
        "id": "wSEW9JS5cyLm",
        "outputId": "f48f7e5e-c33c-4a5c-f197-7db475b408df"
      },
      "execution_count": 250,
      "outputs": [
        {
          "output_type": "execute_result",
          "data": {
            "text/plain": [
              "Text(0.5, 1.0, 'Model accuracy')"
            ]
          },
          "metadata": {},
          "execution_count": 250
        },
        {
          "output_type": "display_data",
          "data": {
            "text/plain": [
              "<Figure size 432x288 with 1 Axes>"
            ],
            "image/png": "[encoded data removed]"
          },
          "metadata": {
            "needs_background": "light"
          }
        }
      ]
    },
    {
      "cell_type": "code",
      "source": [
        "plt.plot(history.history['loss'])\n",
        "plt.plot(history.history['val_loss'])\n",
        "plt.title('Model loss')"
      ],
      "metadata": {
        "colab": {
          "base_uri": "https://localhost:8080/",
          "height": 298
        },
        "id": "4Mnx10N7dWrq",
        "outputId": "9d13f699-8e72-4653-f794-0bbef9e1e8ad"
      },
      "execution_count": 251,
      "outputs": [
        {
          "output_type": "execute_result",
          "data": {
            "text/plain": [
              "Text(0.5, 1.0, 'Model loss')"
            ]
          },
          "metadata": {},
          "execution_count": 251
        },
        {
          "output_type": "display_data",
          "data": {
            "text/plain": [
              "<Figure size 432x288 with 1 Axes>"
            ],
            "image/png": "[encoded data removed]"
          },
          "metadata": {
            "needs_background": "light"
          }
        }
      ]
    },
    {
      "cell_type": "code",
      "source": [
        "# predictions\n",
        "pred_res = model.predict(([input_test, queries_test]))"
      ],
      "metadata": {
        "id": "uxntn8QIgWvx"
      },
      "execution_count": 252,
      "outputs": []
    },
    {
      "cell_type": "code",
      "source": [
        "val_max = np.argmax(pred_res[0])\n",
        "\n",
        "for key, val in tokenizer.word_index.items():\n",
        "  if val == val_max:\n",
        "    k = key\n",
        "    "
      ],
      "metadata": {
        "id": "XZ3zTgizhp2U"
      },
      "execution_count": 254,
      "outputs": []
    },
    {
      "cell_type": "code",
      "source": [
        "print(\"Test story ----> \", test_data[0][0])\n",
        "print(\"\\nTest question ----> \", test_data[0][1])\n",
        "print(\"\\nActual answer ----> \", test_data[0][2])\n",
        "print(\"\\nPredicted answer ----> \",  k)\n",
        "print(\"\\nProbability of the answer ----> \",  pred_res[0][val_max])"
      ],
      "metadata": {
        "colab": {
          "base_uri": "https://localhost:8080/"
        },
        "id": "gO1IMswMg0ZT",
        "outputId": "5d73ea2a-74a2-42f1-f28b-3eb0e6edb50b"
      },
      "execution_count": 256,
      "outputs": [
        {
          "output_type": "stream",
          "name": "stdout",
          "text": [
            "Test story ---->  ['Mary', 'got', 'the', 'milk', 'there', '.', 'John', 'moved', 'to', 'the', 'bedroom', '.']\n",
            "\n",
            "Test question ---->  ['Is', 'John', 'in', 'the', 'kitchen', '?']\n",
            "\n",
            "Actual answer ---->  no\n",
            "\n",
            "Predicted answer ---->  no\n",
            "\n",
            "Probability of the answer ---->  0.8478514\n"
          ]
        }
      ]
    },
    {
      "cell_type": "code",
      "source": [
        "vocab"
      ],
      "metadata": {
        "colab": {
          "base_uri": "https://localhost:8080/"
        },
        "id": "xxOEz9pUiLBX",
        "outputId": "4af0cdd5-d1b5-43ce-c5f0-b0e18a892e6d"
      },
      "execution_count": 257,
      "outputs": [
        {
          "output_type": "execute_result",
          "data": {
            "text/plain": [
              "{'.',\n",
              " '?',\n",
              " 'Daniel',\n",
              " 'Is',\n",
              " 'John',\n",
              " 'Mary',\n",
              " 'Sandra',\n",
              " 'apple',\n",
              " 'back',\n",
              " 'bathroom',\n",
              " 'bedroom',\n",
              " 'discarded',\n",
              " 'down',\n",
              " 'dropped',\n",
              " 'football',\n",
              " 'garden',\n",
              " 'got',\n",
              " 'grabbed',\n",
              " 'hallway',\n",
              " 'in',\n",
              " 'journeyed',\n",
              " 'kitchen',\n",
              " 'left',\n",
              " 'milk',\n",
              " 'moved',\n",
              " 'no',\n",
              " 'office',\n",
              " 'picked',\n",
              " 'put',\n",
              " 'the',\n",
              " 'there',\n",
              " 'to',\n",
              " 'took',\n",
              " 'travelled',\n",
              " 'up',\n",
              " 'went',\n",
              " 'yes'}"
            ]
          },
          "metadata": {},
          "execution_count": 257
        }
      ]
    },
    {
      "cell_type": "code",
      "source": [
        "my_story = 'Daniel went to kitchen . Sandra took the discarded apple in the office .'\n",
        "my_ques = 'Is the apple in the kitchen ?'\n",
        "my_data = [(my_story.split(), my_ques.split(), 'yes')] # I used to split function to get the exact same format with the original data\n",
        "my_data"
      ],
      "metadata": {
        "colab": {
          "base_uri": "https://localhost:8080/"
        },
        "id": "MtJME1aZidJb",
        "outputId": "81329f72-3ca5-41e7-c79d-1ea5da0403c5"
      },
      "execution_count": 259,
      "outputs": [
        {
          "output_type": "execute_result",
          "data": {
            "text/plain": [
              "[(['Daniel',\n",
              "   'went',\n",
              "   'to',\n",
              "   'kitchen',\n",
              "   '.',\n",
              "   'Sandra',\n",
              "   'took',\n",
              "   'the',\n",
              "   'discarded',\n",
              "   'apple',\n",
              "   'in',\n",
              "   'the',\n",
              "   'office',\n",
              "   '.'],\n",
              "  ['Is', 'the', 'apple', 'in', 'the', 'kitchen', '?'],\n",
              "  'yes')]"
            ]
          },
          "metadata": {},
          "execution_count": 259
        }
      ]
    },
    {
      "cell_type": "code",
      "source": [
        "my_story, my_ques, my_ans = vectorize_stories(my_data)"
      ],
      "metadata": {
        "id": "Csc50LFDjZpV"
      },
      "execution_count": 260,
      "outputs": []
    },
    {
      "cell_type": "code",
      "source": [
        "# predict on the new data\n",
        "pred = model.predict(([my_story, my_ques]))\n",
        "\n",
        "val_max = np.argmax(pred[0])\n",
        "\n",
        "for key, val in tokenizer.word_index.items():\n",
        "  if val == val_max:\n",
        "    k = key \n",
        "\n",
        "\n",
        "print(\"Test story ----> \", my_data[0][0])\n",
        "print(\"\\nTest question ----> \", my_data[0][1])\n",
        "print(\"\\nActual answer ----> \", my_data[0][2])\n",
        "print(\"\\nPredicted answer ----> \",  k)\n",
        "print(\"\\nProbability of the answer ----> \",  pred[0][val_max])"
      ],
      "metadata": {
        "colab": {
          "base_uri": "https://localhost:8080/"
        },
        "id": "UFNHBdLwj2dC",
        "outputId": "dd05aefb-194f-43d9-f3dc-c69c54b91c1f"
      },
      "execution_count": 262,
      "outputs": [
        {
          "output_type": "stream",
          "name": "stdout",
          "text": [
            "Test story ---->  ['Daniel', 'went', 'to', 'kitchen', '.', 'Sandra', 'took', 'the', 'discarded', 'apple', 'in', 'the', 'office', '.']\n",
            "\n",
            "Test question ---->  ['Is', 'the', 'apple', 'in', 'the', 'kitchen', '?']\n",
            "\n",
            "Actual answer ---->  yes\n",
            "\n",
            "Predicted answer ---->  yes\n",
            "\n",
            "Probability of the answer ---->  0.71851397\n"
          ]
        }
      ]
    }
  ]
}